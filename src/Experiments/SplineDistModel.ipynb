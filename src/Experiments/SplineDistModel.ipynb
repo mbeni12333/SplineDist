{
 "cells": [
  {
   "cell_type": "code",
   "execution_count": 8,
   "metadata": {},
   "outputs": [
    {
     "name": "stdout",
     "output_type": "stream",
     "text": [
      "The autoreload extension is already loaded. To reload it, use:\n",
      "  %reload_ext autoreload\n"
     ]
    }
   ],
   "source": [
    "%load_ext autoreload\n",
    "%autoreload 2\n",
    "\n",
    "import sys\n",
    "import os\n",
    "sys.path.append(os.path.join(os.getcwd(), \"..\"))\n",
    "\n",
    "from Models.splinedist import SplineDist\n",
    "import pytorch_lightning as pl\n",
    "from pytorch_lightning import loggers as pl_loggers\n",
    "from pytorch_lightning.callbacks import EarlyStopping, ModelCheckpoint, LearningRateMonitor, RichProgressBar, RichModelSummary\n",
    "from Datasets.DSB18 import Nuclie_datamodule "
   ]
  },
  {
   "cell_type": "code",
   "execution_count": 12,
   "metadata": {},
   "outputs": [],
   "source": [
    "\n",
    "logger = pl_loggers.TensorBoardLogger(\n",
    "    save_dir=\"pl_logs\",\n",
    "    name=\"spline_dist\",\n",
    "    log_graph=True,\n",
    "    default_hp_metric=True)\n",
    "\n",
    "checkpoint_callback = ModelCheckpoint(\n",
    "    monitor=\"val_loss\",\n",
    "    dirpath=\"Models/weights\",\n",
    "    filename=\"splineDist-{epoch:02d}-{val_loss:.2f}\",\n",
    "    save_top_k=5,\n",
    "    mode=\"min\",\n",
    ")\n",
    "\n",
    "earlystoping_callback = EarlyStopping(\"val_acc\")\n",
    "\n",
    "lr_logger = LearningRateMonitor(logging_interval=\"step\")\n",
    "summary = RichModelSummary(max_depth=-1)\n",
    "progressbar = RichProgressBar()\n",
    "\n",
    "callbacks = [progressbar, checkpoint_callback,\n",
    "             lr_logger]\n"
   ]
  },
  {
   "cell_type": "code",
   "execution_count": null,
   "metadata": {},
   "outputs": [
    {
     "name": "stderr",
     "output_type": "stream",
     "text": [
      "GPU available: True, used: True\n",
      "TPU available: False, using: 0 TPU cores\n",
      "IPU available: False, using: 0 IPUs\n",
      "LOCAL_RANK: 0 - CUDA_VISIBLE_DEVICES: [0]\n"
     ]
    },
    {
     "data": {
      "text/html": [
       "<pre style=\"white-space:pre;overflow-x:auto;line-height:normal;font-family:Menlo,'DejaVu Sans Mono',consolas,'Courier New',monospace\">┏━━━┳━━━━━━━━━━━━━━━━━━━━━━━━━━━━━━━━┳━━━━━━━━━━━━┳━━━━━━━━┳━━━━━━━━━━━━━━━━┳━━━━━━━━━━━━━━━┓\n",
       "┃<span style=\"color: #800080; text-decoration-color: #800080; font-weight: bold\">   </span>┃<span style=\"color: #800080; text-decoration-color: #800080; font-weight: bold\"> Name                           </span>┃<span style=\"color: #800080; text-decoration-color: #800080; font-weight: bold\"> Type       </span>┃<span style=\"color: #800080; text-decoration-color: #800080; font-weight: bold\"> Params </span>┃<span style=\"color: #800080; text-decoration-color: #800080; font-weight: bold\">       In sizes </span>┃<span style=\"color: #800080; text-decoration-color: #800080; font-weight: bold\">     Out sizes </span>┃\n",
       "┡━━━╇━━━━━━━━━━━━━━━━━━━━━━━━━━━━━━━━╇━━━━━━━━━━━━╇━━━━━━━━╇━━━━━━━━━━━━━━━━╇━━━━━━━━━━━━━━━┩\n",
       "│<span style=\"color: #7f7f7f; text-decoration-color: #7f7f7f\"> 0 </span>│ segmentationBackbone           │ UNet       │ 17.3 M │<span style=\"color: #c0c0c0; text-decoration-color: #c0c0c0\">    [1, 3, 256, </span>│<span style=\"color: #c0c0c0; text-decoration-color: #c0c0c0\"> [1, 128, 254, </span>│\n",
       "│   │                                │            │        │<span style=\"color: #c0c0c0; text-decoration-color: #c0c0c0\">           256] </span>│<span style=\"color: #c0c0c0; text-decoration-color: #c0c0c0\">          254] </span>│\n",
       "│<span style=\"color: #7f7f7f; text-decoration-color: #7f7f7f\"> 1 </span>│ objectFinder                   │ Sequential │  1.2 K │<span style=\"color: #c0c0c0; text-decoration-color: #c0c0c0\">  [1, 128, 254, </span>│<span style=\"color: #c0c0c0; text-decoration-color: #c0c0c0\">   [1, 1, 254, </span>│\n",
       "│   │                                │            │        │<span style=\"color: #c0c0c0; text-decoration-color: #c0c0c0\">           254] </span>│<span style=\"color: #c0c0c0; text-decoration-color: #c0c0c0\">          254] </span>│\n",
       "│<span style=\"color: #7f7f7f; text-decoration-color: #7f7f7f\"> 2 </span>│ ControlPointsAngleRegressor    │ Conv2d     │  9.2 K │<span style=\"color: #c0c0c0; text-decoration-color: #c0c0c0\">  [1, 128, 254, </span>│<span style=\"color: #c0c0c0; text-decoration-color: #c0c0c0\">   [1, 8, 254, </span>│\n",
       "│   │                                │            │        │<span style=\"color: #c0c0c0; text-decoration-color: #c0c0c0\">           254] </span>│<span style=\"color: #c0c0c0; text-decoration-color: #c0c0c0\">          254] </span>│\n",
       "│<span style=\"color: #7f7f7f; text-decoration-color: #7f7f7f\"> 3 </span>│ ControlPointsDistanceRegressor │ Conv2d     │  9.2 K │<span style=\"color: #c0c0c0; text-decoration-color: #c0c0c0\">  [1, 128, 254, </span>│<span style=\"color: #c0c0c0; text-decoration-color: #c0c0c0\">   [1, 8, 254, </span>│\n",
       "│   │                                │            │        │<span style=\"color: #c0c0c0; text-decoration-color: #c0c0c0\">           254] </span>│<span style=\"color: #c0c0c0; text-decoration-color: #c0c0c0\">          254] </span>│\n",
       "└───┴────────────────────────────────┴────────────┴────────┴────────────────┴───────────────┘\n",
       "</pre>\n"
      ],
      "text/plain": [
       "┏━━━┳━━━━━━━━━━━━━━━━━━━━━━━━━━━━━━━━┳━━━━━━━━━━━━┳━━━━━━━━┳━━━━━━━━━━━━━━━━┳━━━━━━━━━━━━━━━┓\n",
       "┃\u001b[1;35m \u001b[0m\u001b[1;35m \u001b[0m\u001b[1;35m \u001b[0m┃\u001b[1;35m \u001b[0m\u001b[1;35mName                          \u001b[0m\u001b[1;35m \u001b[0m┃\u001b[1;35m \u001b[0m\u001b[1;35mType      \u001b[0m\u001b[1;35m \u001b[0m┃\u001b[1;35m \u001b[0m\u001b[1;35mParams\u001b[0m\u001b[1;35m \u001b[0m┃\u001b[1;35m \u001b[0m\u001b[1;35m      In sizes\u001b[0m\u001b[1;35m \u001b[0m┃\u001b[1;35m \u001b[0m\u001b[1;35m    Out sizes\u001b[0m\u001b[1;35m \u001b[0m┃\n",
       "┡━━━╇━━━━━━━━━━━━━━━━━━━━━━━━━━━━━━━━╇━━━━━━━━━━━━╇━━━━━━━━╇━━━━━━━━━━━━━━━━╇━━━━━━━━━━━━━━━┩\n",
       "│\u001b[2m \u001b[0m\u001b[2m0\u001b[0m\u001b[2m \u001b[0m│ segmentationBackbone           │ UNet       │ 17.3 M │\u001b[37m \u001b[0m\u001b[37m   [1, 3, 256,\u001b[0m\u001b[37m \u001b[0m│\u001b[37m \u001b[0m\u001b[37m[1, 128, 254,\u001b[0m\u001b[37m \u001b[0m│\n",
       "│   │                                │            │        │\u001b[37m \u001b[0m\u001b[37m          256]\u001b[0m\u001b[37m \u001b[0m│\u001b[37m \u001b[0m\u001b[37m         254]\u001b[0m\u001b[37m \u001b[0m│\n",
       "│\u001b[2m \u001b[0m\u001b[2m1\u001b[0m\u001b[2m \u001b[0m│ objectFinder                   │ Sequential │  1.2 K │\u001b[37m \u001b[0m\u001b[37m [1, 128, 254,\u001b[0m\u001b[37m \u001b[0m│\u001b[37m \u001b[0m\u001b[37m  [1, 1, 254,\u001b[0m\u001b[37m \u001b[0m│\n",
       "│   │                                │            │        │\u001b[37m \u001b[0m\u001b[37m          254]\u001b[0m\u001b[37m \u001b[0m│\u001b[37m \u001b[0m\u001b[37m         254]\u001b[0m\u001b[37m \u001b[0m│\n",
       "│\u001b[2m \u001b[0m\u001b[2m2\u001b[0m\u001b[2m \u001b[0m│ ControlPointsAngleRegressor    │ Conv2d     │  9.2 K │\u001b[37m \u001b[0m\u001b[37m [1, 128, 254,\u001b[0m\u001b[37m \u001b[0m│\u001b[37m \u001b[0m\u001b[37m  [1, 8, 254,\u001b[0m\u001b[37m \u001b[0m│\n",
       "│   │                                │            │        │\u001b[37m \u001b[0m\u001b[37m          254]\u001b[0m\u001b[37m \u001b[0m│\u001b[37m \u001b[0m\u001b[37m         254]\u001b[0m\u001b[37m \u001b[0m│\n",
       "│\u001b[2m \u001b[0m\u001b[2m3\u001b[0m\u001b[2m \u001b[0m│ ControlPointsDistanceRegressor │ Conv2d     │  9.2 K │\u001b[37m \u001b[0m\u001b[37m [1, 128, 254,\u001b[0m\u001b[37m \u001b[0m│\u001b[37m \u001b[0m\u001b[37m  [1, 8, 254,\u001b[0m\u001b[37m \u001b[0m│\n",
       "│   │                                │            │        │\u001b[37m \u001b[0m\u001b[37m          254]\u001b[0m\u001b[37m \u001b[0m│\u001b[37m \u001b[0m\u001b[37m         254]\u001b[0m\u001b[37m \u001b[0m│\n",
       "└───┴────────────────────────────────┴────────────┴────────┴────────────────┴───────────────┘\n"
      ]
     },
     "metadata": {},
     "output_type": "display_data"
    },
    {
     "data": {
      "text/html": [
       "<pre style=\"white-space:pre;overflow-x:auto;line-height:normal;font-family:Menlo,'DejaVu Sans Mono',consolas,'Courier New',monospace\"><span style=\"font-weight: bold\">Trainable params</span>: 17.4 M                                                                     \n",
       "<span style=\"font-weight: bold\">Non-trainable params</span>: 0                                                                      \n",
       "<span style=\"font-weight: bold\">Total params</span>: 17.4 M                                                                         \n",
       "<span style=\"font-weight: bold\">Total estimated model params size (MB)</span>: 69                                                   \n",
       "</pre>\n"
      ],
      "text/plain": [
       "\u001b[1mTrainable params\u001b[0m: 17.4 M                                                                     \n",
       "\u001b[1mNon-trainable params\u001b[0m: 0                                                                      \n",
       "\u001b[1mTotal params\u001b[0m: 17.4 M                                                                         \n",
       "\u001b[1mTotal estimated model params size (MB)\u001b[0m: 69                                                   \n"
      ]
     },
     "metadata": {},
     "output_type": "display_data"
    },
    {
     "data": {
      "application/vnd.jupyter.widget-view+json": {
       "model_id": "173fe519c34a44f1b1a7126c6550296a",
       "version_major": 2,
       "version_minor": 0
      },
      "text/plain": [
       "Output()"
      ]
     },
     "metadata": {},
     "output_type": "display_data"
    }
   ],
   "source": [
    "model = SplineDist()\n",
    "trainer = pl.Trainer(max_epochs=1,\n",
    "                     gpus=1,\n",
    "                     callbacks=callbacks,\n",
    "                     logger=logger,\n",
    "                     profiler=\"simple\")\n",
    "trainer.fit(model, Nuclie_datamodule())\n"
   ]
  },
  {
   "cell_type": "code",
   "execution_count": null,
   "metadata": {},
   "outputs": [],
   "source": []
  },
  {
   "cell_type": "code",
   "execution_count": null,
   "metadata": {},
   "outputs": [],
   "source": []
  }
 ],
 "metadata": {
  "interpreter": {
   "hash": "ebff40c868104df1b603b373dc12d00c9e5c3d242027624dfb1be5c162464bd0"
  },
  "kernelspec": {
   "display_name": "Python 3 (ipykernel)",
   "language": "python",
   "name": "python3"
  },
  "language_info": {
   "codemirror_mode": {
    "name": "ipython",
    "version": 3
   },
   "file_extension": ".py",
   "mimetype": "text/x-python",
   "name": "python",
   "nbconvert_exporter": "python",
   "pygments_lexer": "ipython3",
   "version": "3.8.12"
  }
 },
 "nbformat": 4,
 "nbformat_minor": 4
}
